{
 "cells": [
  {
   "cell_type": "markdown",
   "metadata": {},
   "source": [
    "# Picture-picture"
   ]
  },
  {
   "cell_type": "markdown",
   "metadata": {},
   "source": [
    "## 人机交互"
   ]
  },
  {
   "cell_type": "code",
   "execution_count": null,
   "metadata": {},
   "outputs": [],
   "source": [
    "# 视图，View，进一步显化变量元（数据可视化，优化）。"
   ]
  },
  {
   "cell_type": "code",
   "execution_count": null,
   "metadata": {},
   "outputs": [],
   "source": [
    "# 获取对话框\n",
    "import tkinter as tk\n",
    "from tkinter import filedialog\n",
    "import os\n",
    "\n",
    "'''打开选择文件夹对话框'''\n",
    "root = tk.Tk()\n",
    "root.withdraw()\n",
    "\n",
    "Folderpath = filedialog.askdirectory()  # 获得选择好的文件夹\n",
    "# Filepath = filedialog.askopenfilename()  # 获得选择好的文件\n",
    "\n",
    "print('Folderpath:', Folderpath)\n",
    "\n",
    "os.listdir(Folderpath)\n",
    "os.system(\"explorer.exe %s\" % Folderpath)\n"
   ]
  },
  {
   "cell_type": "code",
   "execution_count": null,
   "metadata": {},
   "outputs": [],
   "source": [
    "# Python图形化界面基础\n",
    "from tkinter import *\n",
    "root = Tk()\n",
    "root.title('我的第一个Python窗体')\n",
    "root.geometry('240x240')  # 这里的乘号不是 * ，而是小写英文字母 x\n",
    "root.mainloop()\n"
   ]
  },
  {
   "cell_type": "markdown",
   "metadata": {},
   "source": [
    "## 文件-信息流"
   ]
  },
  {
   "cell_type": "code",
   "execution_count": null,
   "metadata": {},
   "outputs": [],
   "source": [
    "# 数据库-文件处理\n",
    "# 创（模板文件，包括“空”模板文件），查（指定标签），（增，删）元素，变（元素的值），存（读，写）文件（涉及《数据结构》相关知识）\n",
    "# 对于每一个文件来说，文件名都由其主文件名和后缀名组成（在本项目中在其间添加标签码，并提供编码函数与解码函数）。\n",
    "\n",
    "# 除了依据模板文件创建的空文件等，现有文件均为旧有文件更新而来，故可仅存更新内容（待议定）\n",
    "def creatBlank(path, filename):\n",
    "    '''创建模板空文件'''\n",
    "    f = open(path, 'w', encoding='utf-8')\n",
    "\n",
    "# 从硬件运行效益的方面考虑，删除操作一般指为指定数据添加删标记，销毁操作则是彻底删除数据。\n",
    "# 通常在服务器维护期间进行对有删标记的数据进行销毁的操作。\n",
    "def deleteTab(file):\n",
    "    file.DeleteTab == True\n",
    "def isDeleteTab(file):\n",
    "    if (file.DeleteTab == True):\n",
    "        return True\n",
    "    else:return False\n"
   ]
  },
  {
   "cell_type": "code",
   "execution_count": null,
   "metadata": {},
   "outputs": [],
   "source": [
    "# 读写txt文件\n",
    "def readLinks(path):\n",
    "    '''读取链接集文件, path为文件绝对路径'''\n",
    "    fr = open(path, \"r\", encoding=\"utf-8\")\n",
    "    Data = []\n",
    "    while True:\n",
    "        line = fr.readline()\n",
    "        # 读取一行内容，并保存为“键 值”的格式\n",
    "        key = ''\n",
    "        value = ''\n",
    "        flag = 0\n",
    "        for i in line:\n",
    "            if i != '\\n':\n",
    "                if i == ' ': flag = 1\n",
    "                elif flag == 0: \n",
    "                    key += i\n",
    "                else: \n",
    "                    value += i\n",
    "        print(key, value)\n",
    "        dic = dict()\n",
    "        dic.setdefault(key, value)\n",
    "        if not line or key == 'web': # 判断是否读到文档末或者读到新web\n",
    "            if(not key == ''): Data.append(dic)\n",
    "            if not line: break\n",
    "    fr.close()\n",
    "    return Data\n",
    "\n",
    "def has_key(dict, key):\n",
    "    for k in dict.keys():\n",
    "        if k == key: return True\n",
    "        else: return False\n",
    "\n",
    "def wirteLinks(path, Data = []):\n",
    "    '''重写链接集文件, path为文件绝对路径, Data为列表'''\n",
    "    fw = open(path, \"w\", encoding=\"utf-8\")\n",
    "    for l in Data:\n",
    "        fw.write('web '+l.get('web')+'\\n')\n",
    "        print(l.get('title'))\n",
    "        fw.write('title '+l.get('title')+'\\n')\n",
    "    fw.close()\n",
    "\n",
    "# Desk = r\"C:\\Users\\Administrator\\Desktop\"\n",
    "# path = Desk+ r\"\\Links.txt\"\n",
    "# Data = readLinks(path)\n",
    "# print(Data)\n",
    "\n",
    "# web = 'http://lmq624.github.io'\n",
    "# title = 'LMQ'\n",
    "\n",
    "# dic = dict()\n",
    "# dic.setdefault('web',web)\n",
    "# dic.setdefault('title',title)\n",
    "# print(dic.keys())\n",
    "# Data.append(dic)\n",
    "# print(Data)\n",
    "\n",
    "# wirteLinks(path, Data)\n"
   ]
  },
  {
   "cell_type": "code",
   "execution_count": 66,
   "metadata": {},
   "outputs": [
    {
     "ename": "IndexError",
     "evalue": "list index out of range",
     "output_type": "error",
     "traceback": [
      "\u001b[1;31m---------------------------------------------------------------------------\u001b[0m",
      "\u001b[1;31mIndexError\u001b[0m                                Traceback (most recent call last)",
      "\u001b[1;32me:\\RER\\Projects\\TextObj\\Filter\\pp.ipynb Cell 9\u001b[0m in \u001b[0;36m<cell line: 30>\u001b[1;34m()\u001b[0m\n\u001b[0;32m     <a href='vscode-notebook-cell:/e%3A/RER/Projects/TextObj/Filter/pp.ipynb#X11sZmlsZQ%3D%3D?line=22'>23</a>\u001b[0m Table \u001b[39m=\u001b[39m excel_\u001b[39m.\u001b[39msheet_by_index(\u001b[39m0\u001b[39m)  \u001b[39m# 通过索引定位工作表，索引从0开始\u001b[39;00m\n\u001b[0;32m     <a href='vscode-notebook-cell:/e%3A/RER/Projects/TextObj/Filter/pp.ipynb#X11sZmlsZQ%3D%3D?line=23'>24</a>\u001b[0m \u001b[39m# Table_1 = excel_.sheet_by_name('Sheet1')  # 通过表的名字定位工作表\u001b[39;00m\n\u001b[0;32m     <a href='vscode-notebook-cell:/e%3A/RER/Projects/TextObj/Filter/pp.ipynb#X11sZmlsZQ%3D%3D?line=24'>25</a>\u001b[0m \n\u001b[0;32m     <a href='vscode-notebook-cell:/e%3A/RER/Projects/TextObj/Filter/pp.ipynb#X11sZmlsZQ%3D%3D?line=25'>26</a>\u001b[0m \u001b[39m# 3 读取单元格\u001b[39;00m\n\u001b[0;32m     <a href='vscode-notebook-cell:/e%3A/RER/Projects/TextObj/Filter/pp.ipynb#X11sZmlsZQ%3D%3D?line=26'>27</a>\u001b[0m \u001b[39m# 根据行列读取内容  3种写法，本质都是读取某行某列的值\u001b[39;00m\n\u001b[0;32m     <a href='vscode-notebook-cell:/e%3A/RER/Projects/TextObj/Filter/pp.ipynb#X11sZmlsZQ%3D%3D?line=27'>28</a>\u001b[0m \u001b[39m# print(Table.cell_value(0, 2))\u001b[39;00m\n\u001b[0;32m     <a href='vscode-notebook-cell:/e%3A/RER/Projects/TextObj/Filter/pp.ipynb#X11sZmlsZQ%3D%3D?line=28'>29</a>\u001b[0m \u001b[39m# print(Table_1.cell(0, 2).value)\u001b[39;00m\n\u001b[1;32m---> <a href='vscode-notebook-cell:/e%3A/RER/Projects/TextObj/Filter/pp.ipynb#X11sZmlsZQ%3D%3D?line=29'>30</a>\u001b[0m \u001b[39mprint\u001b[39m(Table\u001b[39m.\u001b[39;49mrow(\u001b[39m0\u001b[39;49m)[\u001b[39m2\u001b[39;49m]\u001b[39m.\u001b[39mvalue)\n",
      "\u001b[1;31mIndexError\u001b[0m: list index out of range"
     ]
    }
   ],
   "source": [
    "# 读写excel文件\n",
    "import xlwt  # 导入xlwt模块\n",
    "import xlrd  # 导入xlrd模块\n",
    "\n",
    "workpath = os.getcwd()\n",
    "Desk = r\"C:\\Users\\Administrator\\Desktop\"\n",
    "path = Desk + r\"\\Links.xls\"\n",
    "\n",
    "# 1 新建工作簿\n",
    "workbook = xlwt.Workbook()\n",
    "# 2 新建工作表并重命名\n",
    "worksheet = workbook.add_sheet('Python')  # 将工作表worksheet命名为‘Python’\n",
    "# 3 写入内容\n",
    "worksheet.write(0, 0, 'Python')  # write(行,列,写入的内容)\n",
    "# 4 保存\n",
    "workbook.save(path)\n",
    "\n",
    "# 1 打开工作薄（workbook.xlsx）\n",
    "excel_ = xlrd.open_workbook(path)\n",
    "\n",
    "# 2 定位要读取内容的工作表\n",
    "# 两种方法：(1)索引；(2)表的名字\n",
    "Table = excel_.sheet_by_index(0)  # 通过索引定位工作表，索引从0开始\n",
    "Table_1 = excel_.sheet_by_name('Sheet1')  # 通过表的名字定位工作表\n",
    "\n",
    "# 3 读取单元格\n",
    "# 根据行列读取内容  3种写法，本质都是读取某行某列的值\n",
    "print(Table.cell_value(0, 2))\n",
    "print(Table_1.cell(0, 2).value)\n",
    "print(Table.row(0)[2].value)\n",
    "\n"
   ]
  },
  {
   "cell_type": "code",
   "execution_count": null,
   "metadata": {},
   "outputs": [],
   "source": [
    "# 标签-字符串\n",
    "# 文件命名有长度限制，故考虑使用编码标签。将标签加在文件名的低级后缀里。\n",
    "# 除了标签正向检索功能外，还得要有求补集，或者说过滤的功能，参考余项文件夹。\n",
    "# 执行项标记：关键与否，完成与否，预期计划，执行期始、暂止标记、执行期末、执行跨时……\n",
    "# 对于在操作对象的总集，可获取其内元素的总数，以及各个元素的基础唯一标识集合，例如文件名、ID等\n",
    "# 在操作对象的总集内，每一个元素都有通过不同手段（函数）得知的不同特征，而每一个特征可对应多个元素。\n",
    "\n",
    "# 标签整合算法。对于目标全集，各自列出其特征（表观一类），\n",
    "    # 求统计特征（频数、频率（百分比），可用markdown等做饼图等），\n",
    "    # 得各级标签，筛选并使用文件夹名（涉及文件夹·文件树/图，便利存储及后续管理），标签集化后，“凸显某棵树”，“每个文件夹都可以被视为一颗子多叉树”。\n",
    "# 考虑加上与文件夹相互转化，或者可控过度化。\n",
    "# 标签层级由标签间的用户预设项和标签间的包含关系决定。特征集，标签集，标签级，树集\n",
    "\n",
    "# 后续考虑使用人工智能对元素给出特征"
   ]
  },
  {
   "cell_type": "code",
   "execution_count": null,
   "metadata": {},
   "outputs": [],
   "source": [
    "# 文件更名，增删文件标签\n",
    "# 也可以考虑使用C++实现\n",
    "workpath = os.getcwd()  # 获取当前工作目录\n",
    "print(workpath)\n",
    "\n",
    "src = os.path.join(os.getcwd(), 'rename-test.txt')\n",
    "dst = os.getcwd() + 'rename-test' + '.another' + '.txt'\n",
    "\n",
    "key = input('输入 1 增加标签，输入 2 删除标签')\n",
    "if key == '1':\n",
    "    try:\n",
    "        os.rename(src, dst)\n",
    "    except Exception as e:\n",
    "        print(e)\n",
    "        print('rename file fail\\r\\n')\n",
    "    else:\n",
    "        print('rename file success\\r\\n')\n",
    "if key == '2':\n",
    "    try:\n",
    "        os.rename(dst, src)\n",
    "    except Exception as e:\n",
    "        print(e)\n",
    "        print('rename file fail\\r\\n')\n",
    "    else:\n",
    "        print('rename file success\\r\\n')\n"
   ]
  },
  {
   "cell_type": "code",
   "execution_count": null,
   "metadata": {},
   "outputs": [],
   "source": [
    "# 搭建简易本地搜索引擎\n",
    "# 查。寻位（增）、寻值（删），皆可视为寻指定标签，或进行附加处理。"
   ]
  },
  {
   "cell_type": "code",
   "execution_count": null,
   "metadata": {},
   "outputs": [],
   "source": [
    "# 链接集中管理\n",
    "# 建议再制作悬浮窗，用于拓展收藏功能\n",
    "# 可用于学习等领域\n",
    "\n",
    "# 使用默认浏览器打开指定链接\n",
    "import webbrowser\n",
    "\n",
    "bili = r\"https://www.bilibili.com/\"\n",
    "webbrowser.open(bili)\n"
   ]
  },
  {
   "cell_type": "code",
   "execution_count": 11,
   "metadata": {},
   "outputs": [
    {
     "name": "stdout",
     "output_type": "stream",
     "text": [
      "1 * 1 = 1\t\n",
      "2 * 1 = 2\t2 * 2 = 4\t\n",
      "3 * 1 = 3\t3 * 2 = 6\t3 * 3 = 9\t\n",
      "4 * 1 = 4\t4 * 2 = 8\t4 * 3 = 12\t4 * 4 = 16\t\n",
      "5 * 1 = 5\t5 * 2 = 10\t5 * 3 = 15\t5 * 4 = 20\t5 * 5 = 25\t\n",
      "6 * 1 = 6\t6 * 2 = 12\t6 * 3 = 18\t6 * 4 = 24\t6 * 5 = 30\t6 * 6 = 36\t\n",
      "7 * 1 = 7\t7 * 2 = 14\t7 * 3 = 21\t7 * 4 = 28\t7 * 5 = 35\t7 * 6 = 42\t7 * 7 = 49\t\n",
      "8 * 1 = 8\t8 * 2 = 16\t8 * 3 = 24\t8 * 4 = 32\t8 * 5 = 40\t8 * 6 = 48\t8 * 7 = 56\t8 * 8 = 64\t\n",
      "9 * 1 = 9\t9 * 2 = 18\t9 * 3 = 27\t9 * 4 = 36\t9 * 5 = 45\t9 * 6 = 54\t9 * 7 = 63\t9 * 8 = 72\t9 * 9 = 81\t\n"
     ]
    }
   ],
   "source": [
    "# 九九乘法表\n",
    "for i in range(1, 10):\n",
    "    for j in range(1, i+1):\n",
    "        print('%d * %d = %d\\t' % (i, j, i*j), end='')\n",
    "    print()\n"
   ]
  },
  {
   "cell_type": "code",
   "execution_count": 104,
   "metadata": {},
   "outputs": [
    {
     "name": "stdout",
     "output_type": "stream",
     "text": [
      "https://www.bilibili.com/video/BV1Mt411U7QX?spm_id_from=333.999.0.0&vd_source=839fc30f50adb5e2d1f9b8fcb23b16b0\n",
      "https://www.bilibili.com/video/BV1ax411L7i9?spm_id_from=333.999.0.0&vd_source=839fc30f50adb5e2d1f9b8fcb23b16b0\n",
      "https://www.bilibili.com/video/BV1Ts411t7k5?spm_id_from=333.999.0.0&vd_source=839fc30f50adb5e2d1f9b8fcb23b16b0\n",
      "https://www.bilibili.com/video/BV19t411x7dz?spm_id_from=333.999.0.0\n",
      "https://www.bilibili.com/video/BV1ns411W78T?spm_id_from=333.999.0.0&vd_source=839fc30f50adb5e2d1f9b8fcb23b16b0\n",
      "https://www.bilibili.com/video/BV1ms411b7Uz?spm_id_from=333.999.0.0&vd_source=839fc30f50adb5e2d1f9b8fcb23b16b0\n",
      "https://www.bilibili.com/video/BV12f4y1j7vh?spm_id_from=333.999.0.0&vd_source=839fc30f50adb5e2d1f9b8fcb23b16b0\n",
      "https://www.bilibili.com/video/BV1PL411x7kw?spm_id_from=333.999.0.0&vd_source=839fc30f50adb5e2d1f9b8fcb23b16b0\n",
      "https://www.bilibili.com/video/BV1Mh411H7wB?spm_id_from=333.999.0.0&vd_source=839fc30f50adb5e2d1f9b8fcb23b16b0\n",
      "https://www.bilibili.com/video/BV19K4y1N7xY?spm_id_from=333.999.0.0\n",
      "https://www.bilibili.com/video/BV1eE411Y7rb?spm_id_from=333.999.0.0\n",
      "https://www.bilibili.com/video/BV1zA411V79b?spm_id_from=333.999.0.0&vd_source=839fc30f50adb5e2d1f9b8fcb23b16b0\n",
      "https://www.bilibili.com/bangumi/play/ep427374?spm_id_from=333.999.0.0\n",
      "https://www.bilibili.com/video/BV14L411g7qN?spm_id_from=333.999.0.0&vd_source=839fc30f50adb5e2d1f9b8fcb23b16b0\n",
      "https://www.bilibili.com/video/BV1Hr4y1Q7H6?spm_id_from=333.999.0.0&vd_source=839fc30f50adb5e2d1f9b8fcb23b16b0\n",
      "https://www.bilibili.com/video/BV19341147Yh?spm_id_from=333.999.0.0&vd_source=839fc30f50adb5e2d1f9b8fcb23b16b0\n",
      "https://www.bilibili.com/video/BV1qt411f76i?spm_id_from=333.999.0.0\n",
      "https://www.bilibili.com/video/BV1V3411j7Vh?spm_id_from=333.999.0.0\n",
      "https://www.bilibili.com/video/BV1X44y1A72G?spm_id_from=333.999.0.0&vd_source=839fc30f50adb5e2d1f9b8fcb23b16b0\n",
      "https://www.bilibili.com/video/BV1v44y1A72R?spm_id_from=333.999.0.0&vd_source=839fc30f50adb5e2d1f9b8fcb23b16b0\n",
      "https://www.bilibili.com/video/BV1L5411d7HA?spm_id_from=333.999.0.0&vd_source=839fc30f50adb5e2d1f9b8fcb23b16b0\n",
      "https://www.bilibili.com/video/BV1v94y127wr?spm_id_from=333.999.0.0&vd_source=839fc30f50adb5e2d1f9b8fcb23b16b0\n",
      "https://www.bilibili.com/video/BV1uf4y1f77h?spm_id_from=333.999.0.0&vd_source=839fc30f50adb5e2d1f9b8fcb23b16b0\n"
     ]
    }
   ],
   "source": [
    "# 提取特别格式内容的html文件内被\"\"标识的链接或标题\n",
    "def read_LinkinTxt(txtpath):\n",
    "    fr = open(txt, 'r', encoding='utf-8')\n",
    "    str = fr.read()\n",
    "    fr.close()\n",
    "    flag = 0\n",
    "    link = ''\n",
    "    pre_ch = ' '\n",
    "    for ch in str:\n",
    "        if ch == 'h' and pre_ch == '\"': flag = 1\n",
    "        elif ch == '\"' and flag == 1: \n",
    "            flag = 0\n",
    "            print(link)\n",
    "            link = ''   # 写入link后将link清空，准备储存下一个链接\n",
    "        if flag == 1 : link += ch\n",
    "        pre_ch = ch\n",
    "\n",
    "def read_TitleinTxt(txtpath):\n",
    "    fr = open(txt, 'r', encoding='utf-8')\n",
    "    str = fr.read()\n",
    "    fr.close()\n",
    "    flag = 0\n",
    "    title = ''\n",
    "    pre_ch = ' '\n",
    "    for ch in str:\n",
    "        if pre_ch == '\"' and ch == '>' : flag = 1\n",
    "        elif ch == '<' and flag == 1:\n",
    "            flag = 0\n",
    "            print(title)\n",
    "            title = ''\n",
    "        if flag == 1 and not ch == '>': title += ch\n",
    "        pre_ch = ch\n",
    "\n",
    "# 函数功能单独测试语段\n",
    "testing = 1\n",
    "if testing :\n",
    "    txt = r'C:\\Users\\Administrator\\Desktop\\Links.txt'\n",
    "    key = input()\n",
    "    if key == 'l' :read_LinkinTxt(txt)\n",
    "    elif key == 't' :read_TitleinTxt(txt)"
   ]
  },
  {
   "cell_type": "code",
   "execution_count": null,
   "metadata": {},
   "outputs": [],
   "source": [
    "# 获取网页标题\n",
    "#!/usr/bin/python\n",
    "#coding=utf-8\n",
    "\n",
    "#urllib2是python自带的模块，在python3.x中被改为urllib.request\n",
    "import urllib.request\n",
    "import re\n",
    "\n",
    "webs = [r'https://blog.csdn.net/m0_56401378/article/details/116041895', 'http://lmq624.github.io']\n",
    "\n",
    "def get_title(url):\n",
    "    try:\n",
    "        page = urllib.request.urlopen(url=url)\n",
    "    except Exception as e:\n",
    "        print(e)\n",
    "    else:\n",
    "        html = page.read().decode('utf-8')\n",
    "        title = re.findall('<title>(.+)</title>', html)\n",
    "        return title\n",
    "\n",
    "for i in webs:\n",
    "    res = get_title(i)\n",
    "    if res:\n",
    "        print(res)\n",
    "    else:\n",
    "        print(i, '获取失败，请手动保存网页标题')\n"
   ]
  },
  {
   "cell_type": "markdown",
   "metadata": {},
   "source": [
    "# main"
   ]
  },
  {
   "cell_type": "code",
   "execution_count": null,
   "metadata": {},
   "outputs": [],
   "source": [
    "# __main__\n"
   ]
  }
 ],
 "metadata": {
  "kernelspec": {
   "display_name": "Python 3.10.6 64-bit",
   "language": "python",
   "name": "python3"
  },
  "language_info": {
   "codemirror_mode": {
    "name": "ipython",
    "version": 3
   },
   "file_extension": ".py",
   "mimetype": "text/x-python",
   "name": "python",
   "nbconvert_exporter": "python",
   "pygments_lexer": "ipython3",
   "version": "3.10.6"
  },
  "orig_nbformat": 4,
  "vscode": {
   "interpreter": {
    "hash": "3196968d684371006099b3d55edeef8ed90365227a30deaef86e5d4aa8519be0"
   }
  }
 },
 "nbformat": 4,
 "nbformat_minor": 2
}
