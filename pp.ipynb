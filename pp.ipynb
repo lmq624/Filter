{
 "cells": [
  {
   "cell_type": "markdown",
   "metadata": {},
   "source": [
    "# Picture-picture"
   ]
  },
  {
   "cell_type": "markdown",
   "metadata": {},
   "source": [
    "## 人机交互"
   ]
  },
  {
   "cell_type": "code",
   "execution_count": null,
   "metadata": {},
   "outputs": [],
   "source": [
    "# 视图，View，进一步显化变量元（数据可视化，优化）。"
   ]
  },
  {
   "cell_type": "code",
   "execution_count": 5,
   "metadata": {},
   "outputs": [
    {
     "name": "stdout",
     "output_type": "stream",
     "text": [
      "Folderpath: E:/RER/Projects\n"
     ]
    },
    {
     "data": {
      "text/plain": [
       "1"
      ]
     },
     "execution_count": 5,
     "metadata": {},
     "output_type": "execute_result"
    }
   ],
   "source": [
    "# 获取对话框\n",
    "import tkinter as tk\n",
    "from tkinter import filedialog\n",
    "import os\n",
    "\n",
    "'''打开选择文件夹对话框'''\n",
    "root = tk.Tk()\n",
    "root.withdraw()\n",
    "\n",
    "Folderpath = filedialog.askdirectory()  # 获得选择好的文件夹\n",
    "# Filepath = filedialog.askopenfilename()  # 获得选择好的文件\n",
    "\n",
    "print('Folderpath:', Folderpath)\n",
    "\n",
    "os.listdir(Folderpath)\n",
    "os.system(\"explorer.exe %s\" % Folderpath)\n"
   ]
  },
  {
   "cell_type": "code",
   "execution_count": 1,
   "metadata": {},
   "outputs": [],
   "source": [
    "# Python图形化界面基础\n",
    "from tkinter import *\n",
    "root = Tk()\n",
    "root.title('我的第一个Python窗体')\n",
    "root.geometry('240x240')  # 这里的乘号不是 * ，而是小写英文字母 x\n",
    "root.mainloop()\n"
   ]
  },
  {
   "cell_type": "markdown",
   "metadata": {},
   "source": [
    "## 文件-信息流"
   ]
  },
  {
   "cell_type": "code",
   "execution_count": 7,
   "metadata": {},
   "outputs": [],
   "source": [
    "# 数据库-文件处理\n",
    "# 创（模板文件，包括“空”模板文件），查（指定标签），（增，删）元素，变（元素的值），存（读，写）文件（涉及《数据结构》相关知识）\n",
    "# 对于每一个文件来说，文件名都由其主文件名和后缀名组成（在本项目中在其间添加标签码，并提供编码函数与解码函数）。\n",
    "\n",
    "# 除了依据模板文件创建的空文件等，现有文件均为旧有文件更新而来，故可仅存更新内容（待议定）；\n",
    "def creatBlank(path, filename):\n",
    "    print(100)\n",
    "\n",
    "# 从硬件运行效益的方面考虑，删除操作一般指为指定数据添加删标记，销毁操作则是彻底删除数据。\n",
    "# 通常在服务器维护期间进行对有删标记的数据进行销毁的操作。\n",
    "def deleteTab(file):\n",
    "    file.DeleteTab == True\n",
    "def isDeleteTab(file):\n",
    "    if (file.DeleteTab == True):\n",
    "        return True\n",
    "    else:return False\n"
   ]
  },
  {
   "cell_type": "code",
   "execution_count": 32,
   "metadata": {},
   "outputs": [
    {
     "name": "stdout",
     "output_type": "stream",
     "text": [
      "[{'web': 'http://lmq624.github.io'}, {'web': 'http://lmq624.github.io'}, {'web': 'http://lmq624.github.io'}]\n",
      "{'web': 'http://lmq624.github.io'}\n"
     ]
    }
   ],
   "source": [
    "# 读写txt文档\n",
    "\n",
    "Desk = r\"C:\\Users\\Administrator\\Desktop\"\n",
    "\n",
    "# 读\n",
    "fr = open(Desk + r\"\\Links.txt\", \"r\", encoding=\"utf-8\")\n",
    "# data = f.read()\n",
    "# data = f.readline()\n",
    "# print(data)\n",
    "# print(data[:255])\n",
    "# f.close()\n",
    "Data = []\n",
    "while True:\n",
    "    line = fr.readline()\n",
    "    # 判断是否读到内容\n",
    "    if not line:\n",
    "        break\n",
    "    # 读取一行内容\n",
    "    dic = {}\n",
    "    key = ''\n",
    "    value = ''\n",
    "    flag = 0\n",
    "    for i in line:\n",
    "        if(i != '\\n'):\n",
    "            if(i == ' '): flag = 1\n",
    "            elif (flag == 0): key += i\n",
    "            else: value += i\n",
    "    dic.setdefault(key, value)\n",
    "    Data.append(dic)\n",
    "print(Data)\n",
    "fr.close()\n",
    "\n",
    "# 数据处理\n",
    "web = 'http://lmq624.github.io'\n",
    "Data.append({'web':web})\n",
    "print(Data[0])\n",
    "\n",
    "# 写\n",
    "fw = open(Desk + r\"\\Links.txt\", \"w\", encoding=\"utf-8\")\n",
    "for l in Data:\n",
    "    fw.write('web '+l.get('web')+'\\n')\n",
    "fw.close()"
   ]
  },
  {
   "cell_type": "code",
   "execution_count": 36,
   "metadata": {},
   "outputs": [],
   "source": [
    "# 各类数据结构，包括但不限于新建标签树类\n",
    "\n",
    "# 参考 数据结构：树，进行体系化储存\n",
    "#先定一个node的类\n",
    "class Node():                  #value + next\n",
    "    def __init__ (self, value = None, next = None):\n",
    "        self._value = value\n",
    "        self._next = next\n",
    " \n",
    "    def getValue(self):\n",
    "        return self._value\n",
    " \n",
    "    def getNext(self):\n",
    "        return self._next\n",
    " \n",
    "    def setValue(self,new_value):\n",
    "        self._value = new_value\n",
    " \n",
    "    def setNext(self,new_next):\n",
    "        self._next = new_next\n",
    " \n",
    "# 实现Linked List及其各类操作方法\n",
    "class LinkedList():\n",
    "    def __init__(self):      #初始化链表为空表\n",
    "        self._head = Node() \n",
    "        self._tail = None\n",
    "        self._length = 0\n",
    " \n",
    "    #检测是否为空\n",
    "    def isEmpty(self):\n",
    "        return self._head == None  \n",
    " \n",
    "    #add在链表前端添加元素:O(1)\n",
    "    def add(self,value):\n",
    "        newnode = Node(value,None)    #create一个node（为了插进一个链表）\n",
    "        newnode.setNext(self._head)   \n",
    "        self._head = newnode\n",
    " \n",
    "    #append在链表尾部添加元素:O(n)\n",
    "    def append(self,value):\n",
    "        newnode = Node(value)\n",
    "        if self.isEmpty():\n",
    "            self._head = newnode   #若为空表，将添加的元素设为第一个元素\n",
    "        else:\n",
    "            current = self._head\n",
    "            while current.getNext() != None:\n",
    "                current = current.getNext()   #遍历链表\n",
    "            current.setNext(newnode)   #此时current为链表最后的元素\n",
    " \n",
    "    #search检索元素是否在链表中    \n",
    "    def search(self,value):\n",
    "        current=self._head\n",
    "        foundvalue = False\n",
    "        while current != None and not foundvalue:\n",
    "            if current.getValue() == value:\n",
    "                foundvalue = True\n",
    "            else:\n",
    "                current=current.getNext()\n",
    "        return foundvalue\n",
    " \n",
    "    #index索引元素在链表中的位置\n",
    "    def index(self,value):\n",
    "        current = self._head\n",
    "        count = 0\n",
    "        found = None\n",
    "        while current != None and not found:\n",
    "            count += 1\n",
    "            if current.getValue()==value:\n",
    "                found = True\n",
    "            else:\n",
    "                current=current.getNext()\n",
    "        if found:\n",
    "            return count\n",
    "        else:\n",
    "            raise ValueError ('%s is not in linkedlist'%value)\n",
    " \n",
    "    #remove删除链表中的某项元素\n",
    "    def remove(self,value):\n",
    "        current = self._head\n",
    "        pre = None\n",
    "        while current!=None:\n",
    "            if current.getValue() == value:\n",
    "                if not pre:\n",
    "                    self._head = current.getNext()\n",
    "                else:\n",
    "                    pre.setNext(current.getNext())\n",
    "                break\n",
    "            else:\n",
    "                pre = current\n",
    "                current = current.getNext()\n",
    " \n",
    "    #insert链表中插入元素\n",
    "    def insert(self,pos,value):\n",
    "        if pos <= 1:\n",
    "            self.add(value)\n",
    "        elif pos > self.size():\n",
    "            self.append(value)\n",
    "        else:\n",
    "            temp = Node(value)\n",
    "            count = 1\n",
    "            pre = None\n",
    "            current = self._head\n",
    "            while count < pos:\n",
    "                count += 1\n",
    "                pre = current\n",
    "                current = current.getNext()\n",
    "            pre.setNext(temp)\n",
    "            temp.setNext(current)\n",
    "\n",
    "# 实现多叉树"
   ]
  },
  {
   "cell_type": "code",
   "execution_count": 1,
   "metadata": {},
   "outputs": [
    {
     "name": "stdout",
     "output_type": "stream",
     "text": [
      "[0, 1, 2, 3, 4, 5, 6, 7, 8, 9]\n",
      "[0, 1, 2, 3, 4, 5, 6, 7, 8, 9, '{', '[', ']', '[', ']', '(', ')', '(', '[', ']', ')', '}']\n"
     ]
    }
   ],
   "source": [
    "# Python内置类 —— 列表\n",
    "L = []\n",
    "i = 0\n",
    "for i in range(10):\n",
    "    L.append(i)\n",
    "print(L)\n",
    "\n",
    "# 列表实现数据匹配\n",
    "str = r'{[][]()([])}'\n",
    "for i in str:\n",
    "    L.append(i)\n",
    "print(L)\n"
   ]
  },
  {
   "cell_type": "code",
   "execution_count": null,
   "metadata": {},
   "outputs": [],
   "source": [
    "# 标签-字符串\n",
    "# 文件命名有长度限制，故考虑使用编码标签。将标签加在文件名的低级后缀里。\n",
    "# 除了标签正向检索功能外，还得要有求补集，或者说过滤的功能，参考余项文件夹。\n",
    "# 执行项标记：关键与否，完成与否，预期计划，执行期始、暂止标记、执行期末、执行跨时……\n",
    "# 对于在操作对象的总集，可获取其内元素的总数，以及各个元素的基础唯一标识集合，例如文件名、ID等\n",
    "# 在操作对象的总集内，每一个元素都有通过不同手段（函数）得知的不同特征，而每一个特征可对应多个元素。\n",
    "\n",
    "# 标签整合算法。对于目标全集，各自列出其特征（表观一类），\n",
    "    # 求统计特征（频数、频率（百分比），可用markdown等做饼图等），\n",
    "    # 得各级标签，筛选并使用文件夹名（涉及文件夹·文件树/图，便利存储及后续管理），标签集化后，“凸显某棵树”，“每个文件夹都可以被视为一颗子多叉树”。\n",
    "# 考虑加上与文件夹相互转化，或者可控过度化。\n",
    "# 标签层级由标签间的用户预设项和标签间的包含关系决定。特征集，标签集，标签级，树集\n",
    "\n",
    "# 后续考虑使用人工智能对元素给出特征"
   ]
  },
  {
   "cell_type": "code",
   "execution_count": 34,
   "metadata": {},
   "outputs": [
    {
     "name": "stdout",
     "output_type": "stream",
     "text": [
      "e:\\RER\\Projects\\TextObj\\Filter\n",
      "rename file success\n",
      "\n"
     ]
    }
   ],
   "source": [
    "# 文件更名，增删文件标签\n",
    "# 也可以考虑使用C++实现\n",
    "workpath = os.getcwd()  # 获取当前工作目录\n",
    "print(workpath)\n",
    "\n",
    "src = os.path.join(os.getcwd(), 'rename-test.txt')\n",
    "dst = os.getcwd() + 'rename-test' + '.another' + '.txt'\n",
    "\n",
    "key = input('输入 1 增加标签，输入 2 删除标签')\n",
    "if key == '1':\n",
    "    try:\n",
    "        os.rename(src, dst)\n",
    "    except Exception as e:\n",
    "        print(e)\n",
    "        print('rename file fail\\r\\n')\n",
    "    else:\n",
    "        print('rename file success\\r\\n')\n",
    "if key == '2':\n",
    "    try:\n",
    "        os.rename(dst, src)\n",
    "    except Exception as e:\n",
    "        print(e)\n",
    "        print('rename file fail\\r\\n')\n",
    "    else:\n",
    "        print('rename file success\\r\\n')\n"
   ]
  },
  {
   "cell_type": "code",
   "execution_count": null,
   "metadata": {},
   "outputs": [],
   "source": [
    "# 搭建简易本地搜索引擎\n",
    "# 查。寻位（增）、寻值（删），皆可视为寻指定标签，或进行附加处理。"
   ]
  },
  {
   "cell_type": "code",
   "execution_count": 1,
   "metadata": {},
   "outputs": [
    {
     "data": {
      "text/plain": [
       "True"
      ]
     },
     "execution_count": 1,
     "metadata": {},
     "output_type": "execute_result"
    }
   ],
   "source": [
    "# 链接集中管理\n",
    "# 建议再制作悬浮窗，用于拓展收藏功能\n",
    "# 可用于学习等领域\n",
    "\n",
    "# 使用默认浏览器打开指定链接\n",
    "import webbrowser\n",
    "\n",
    "bili = r\"https://www.bilibili.com/\"\n",
    "webbrowser.open(bili)\n"
   ]
  },
  {
   "cell_type": "code",
   "execution_count": 4,
   "metadata": {},
   "outputs": [
    {
     "name": "stdout",
     "output_type": "stream",
     "text": [
      "['python获取网站标题-教程-代码-python web_secsafe的博客-CSDN博客']\n",
      "['secsafe的博客_CSDN博客-Python,php,cms领域博主']\n",
      "['LMQ']\n"
     ]
    }
   ],
   "source": [
    "# 获取网页标题\n",
    "#!/usr/bin/python\n",
    "#coding=utf-8\n",
    "\n",
    "#urllib2是python自带的模块，在python3.x中被改为urllib.request\n",
    "import urllib.request\n",
    "import re\n",
    "\n",
    "webs = [r'https://blog.csdn.net/m0_56401378/article/details/116041895', 'https://blog.csdn.net/m0_56401378', 'http://lmq624.github.io']\n",
    "\n",
    "def get_title(url):\n",
    "    try:\n",
    "        page = urllib.request.urlopen(url=url)\n",
    "    except Exception as e:\n",
    "        print(e)\n",
    "    else:\n",
    "        html = page.read().decode('utf-8')\n",
    "        title = re.findall('<title>(.+)</title>', html)\n",
    "        return title\n",
    "\n",
    "for i in webs:\n",
    "    res = get_title(i)\n",
    "    if res:\n",
    "        print(res)\n",
    "    else:\n",
    "        print(i, '获取失败，请手动保存网页标题')\n"
   ]
  }
 ],
 "metadata": {
  "kernelspec": {
   "display_name": "Python 3.10.6 64-bit",
   "language": "python",
   "name": "python3"
  },
  "language_info": {
   "codemirror_mode": {
    "name": "ipython",
    "version": 3
   },
   "file_extension": ".py",
   "mimetype": "text/x-python",
   "name": "python",
   "nbconvert_exporter": "python",
   "pygments_lexer": "ipython3",
   "version": "3.10.6"
  },
  "orig_nbformat": 4,
  "vscode": {
   "interpreter": {
    "hash": "3196968d684371006099b3d55edeef8ed90365227a30deaef86e5d4aa8519be0"
   }
  }
 },
 "nbformat": 4,
 "nbformat_minor": 2
}
