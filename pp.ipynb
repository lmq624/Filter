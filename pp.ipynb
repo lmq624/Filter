{
 "cells": [
  {
   "cell_type": "markdown",
   "metadata": {},
   "source": [
    "# Picture-picture"
   ]
  },
  {
   "cell_type": "markdown",
   "metadata": {},
   "source": [
    "## 人机交互"
   ]
  },
  {
   "cell_type": "code",
   "execution_count": null,
   "metadata": {},
   "outputs": [],
   "source": [
    "# 视图，View，进一步显化变量元（数据可视化，优化）。"
   ]
  },
  {
   "cell_type": "code",
   "execution_count": null,
   "metadata": {},
   "outputs": [],
   "source": [
    "# 获取对话框\n",
    "import tkinter as tk\n",
    "from tkinter import filedialog\n",
    "import os\n",
    "\n",
    "'''打开选择文件夹对话框'''\n",
    "root = tk.Tk()\n",
    "root.withdraw()\n",
    "\n",
    "Folderpath = filedialog.askdirectory()  # 获得选择好的文件夹\n",
    "# Filepath = filedialog.askopenfilename()  # 获得选择好的文件\n",
    "\n",
    "print('Folderpath:', Folderpath)\n",
    "\n",
    "os.listdir(Folderpath)\n",
    "os.system(\"explorer.exe %s\" % Folderpath)\n"
   ]
  },
  {
   "cell_type": "code",
   "execution_count": null,
   "metadata": {},
   "outputs": [],
   "source": [
    "# Python图形化界面基础\n",
    "from tkinter import *\n",
    "root = Tk()\n",
    "root.title('我的第一个Python窗体')\n",
    "root.geometry('240x240')  # 这里的乘号不是 * ，而是小写英文字母 x\n",
    "root.mainloop()\n"
   ]
  },
  {
   "cell_type": "markdown",
   "metadata": {},
   "source": [
    "## 文件-信息流"
   ]
  },
  {
   "cell_type": "code",
   "execution_count": null,
   "metadata": {},
   "outputs": [],
   "source": [
    "# 数据库-文件处理\n",
    "# 创（模板文件，包括“空”模板文件），查（指定标签），（增，删）元素，变（元素的值），存（读，写）文件（涉及《数据结构》相关知识）\n",
    "# 对于每一个文件来说，文件名都由其主文件名和后缀名组成（在本项目中在其间添加标签码，并提供编码函数与解码函数）。\n",
    "\n",
    "# 除了依据模板文件创建的空文件等，现有文件均为旧有文件更新而来，故可仅存更新内容（待议定）\n",
    "def creatBlank(path, filename):\n",
    "    '''创建模板空文件'''\n",
    "    f = open(path, 'w', encoding='utf-8')\n",
    "\n",
    "# 从硬件运行效益的方面考虑，删除操作一般指为指定数据添加删标记，销毁操作则是彻底删除数据。\n",
    "# 通常在服务器维护期间进行对有删标记的数据进行销毁的操作。\n",
    "def deleteTab(file):\n",
    "    file.DeleteTab == True\n",
    "def isDeleteTab(file):\n",
    "    if (file.DeleteTab == True):\n",
    "        return True\n",
    "    else:return False\n"
   ]
  },
  {
   "cell_type": "code",
   "execution_count": null,
   "metadata": {},
   "outputs": [],
   "source": [
    "# 读写txt文件\n",
    "def readLinks(path):\n",
    "    '''读取链接集文件, path为文件绝对路径'''\n",
    "    fr = open(path, \"r\", encoding=\"utf-8\")\n",
    "    Data = []\n",
    "    while True:\n",
    "        line = fr.readline()\n",
    "        # 读取一行内容，并保存为“键 值”的格式\n",
    "        key = ''\n",
    "        value = ''\n",
    "        flag = 0\n",
    "        for i in line:\n",
    "            if i != '\\n':\n",
    "                if i == ' ': flag = 1\n",
    "                elif flag == 0: \n",
    "                    key += i\n",
    "                else: \n",
    "                    value += i\n",
    "        print(key, value)\n",
    "        dic = dict()\n",
    "        dic.setdefault(key, value)\n",
    "        if not line or key == 'web': # 判断是否读到文档末或者读到新web\n",
    "            if(not key == ''): Data.append(dic)\n",
    "            if not line: break\n",
    "    fr.close()\n",
    "    return Data\n",
    "\n",
    "def has_key(dict, key):\n",
    "    for k in dict.keys():\n",
    "        if k == key: return True\n",
    "        else: return False\n",
    "\n",
    "def wirteLinks(path, Data = []):\n",
    "    '''重写链接集文件, path为文件绝对路径, Data为列表'''\n",
    "    fw = open(path, \"w\", encoding=\"utf-8\")\n",
    "    for l in Data:\n",
    "        fw.write('web '+l.get('web')+'\\n')\n",
    "        print(l.get('title'))\n",
    "        fw.write('title '+l.get('title')+'\\n')\n",
    "    fw.close()\n",
    "\n",
    "# Desk = r\"C:\\Users\\Administrator\\Desktop\"\n",
    "# path = Desk+ r\"\\Links.txt\"\n",
    "# Data = readLinks(path)\n",
    "# print(Data)\n",
    "\n",
    "# web = 'http://lmq624.github.io'\n",
    "# title = 'LMQ'\n",
    "\n",
    "# dic = dict()\n",
    "# dic.setdefault('web',web)\n",
    "# dic.setdefault('title',title)\n",
    "# print(dic.keys())\n",
    "# Data.append(dic)\n",
    "# print(Data)\n",
    "\n",
    "# wirteLinks(path, Data)\n"
   ]
  },
  {
   "cell_type": "code",
   "execution_count": null,
   "metadata": {},
   "outputs": [],
   "source": [
    "import time\n",
    "import xlwings as xw\n",
    "app = xw.App(visible=True, add_book=False)\n",
    "book = app.books.open(\n",
    "    r'C:\\Users\\Administrator\\Desktop\\测试用表格.xlsx')\t\t# 打开一个存在的 book\n",
    "print(book.fullname) \t\t# 测试 1，打印文件绝对路径\n",
    "print(book.app) \t\t \t# 测试 2，查看进程\n",
    "sheet = book.sheets[0]\t\t# 或者 sheet = book.sheets['sheet1']\n",
    "sheet.range('A1').value = 'Hello'\n",
    "sheet.range(2, 1).value = 'World!'\n",
    "book.save(r'C:\\Users\\Administrator\\Desktop\\测试用表格a.xlsx')\n",
    "app.kill()\n",
    "\n",
    "\n",
    "XlsFilePath = r'C:\\Users\\Administrator\\Desktop\\测试用表格.xlsx'\n",
    "# Excel应用程序App\n",
    "app = xw.App(visible=True, add_book=False)\n",
    "# app.display_alerts = False\n",
    "# app.screen_updating = False\n",
    "# 工作薄Book\n",
    "wb = app.books.open(XlsFilePath)\n",
    "ws = wb.sheet_names\n",
    "print(ws)\n",
    "# 工作表sheet\n",
    "sheet1 = wb.sheets[0]\n",
    "\n",
    "# 保存并关闭\n",
    "time.sleep(3)\n",
    "wb.save(XlsFilePath)\n",
    "wb.close()\n",
    "app.quit()\n",
    "os.system('taskkill /f /im wps.exe')\n"
   ]
  },
  {
   "cell_type": "code",
   "execution_count": 3,
   "metadata": {},
   "outputs": [
    {
     "name": "stdout",
     "output_type": "stream",
     "text": [
      "None\n"
     ]
    }
   ],
   "source": [
    "import xlwings as xw\n",
    "\n",
    "def addItems(xlpath, SheetName, ItemList):\n",
    "    '''将ItemList填入xlpath工作薄sheetname工作表第J列(默认实例列)的空白格'''\n",
    "    app = xw.App(visible=True, add_book=False)\n",
    "    book = app.books.open(xlpath)\n",
    "    sheet = book.sheets[SheetName]\n",
    "    print(sheet.range(1, 10).value)\n",
    "    for call in range(1, 100):\n",
    "        if sheet.range(call, 10).value == None:\n",
    "            first = call\n",
    "            break\n",
    "    for para in ItemList:\n",
    "        # 版本不同，excel的最大行数和列数不同。Excel2007及以后的版本最大行数是1048576行，最大列数是16384列。\n",
    "        for call in range(first, 100):\n",
    "            if sheet.range(call, 10).value == None:\n",
    "                sheet.range(call, 10).value = para\n",
    "                break\n",
    "    book.save(xlpath)\n",
    "    app.kill()\n",
    "\n",
    "XlsFilePath = r'C:\\Users\\Administrator\\Desktop\\测试用表格.xlsx'\n",
    "para = ['100', '200', '300']\n",
    "addItems(XlsFilePath, 'sheet1', para)"
   ]
  },
  {
   "cell_type": "code",
   "execution_count": null,
   "metadata": {},
   "outputs": [
    {
     "data": {
      "text/plain": [
       "0"
      ]
     },
     "execution_count": 41,
     "metadata": {},
     "output_type": "execute_result"
    }
   ],
   "source": [
    "os.system('taskkill /f /im wps.exe')\n"
   ]
  },
  {
   "cell_type": "code",
   "execution_count": null,
   "metadata": {},
   "outputs": [],
   "source": [
    "import psutil\n",
    "import os\n",
    "\n",
    "\n",
    "def printPids():\n",
    "    pids = psutil.pids()\n",
    "    for pid in pids:\n",
    "        try:\n",
    "            p = psutil.Process(pid)\n",
    "            print('pid=%s,pname=%s' % (pid, p.name()))\n",
    "            # 关闭excel进程\n",
    "            if p.name() == 'EXCEL.EXE':\n",
    "                cmd = 'taskkill /F /IM EXCEL.EXE'\n",
    "                os.system(cmd)\n",
    "        except Exception as e:\n",
    "            print(e)\n",
    "\n",
    "\n",
    "if __name__ == '__main__':\n",
    "    printPids()\n"
   ]
  },
  {
   "cell_type": "code",
   "execution_count": null,
   "metadata": {},
   "outputs": [],
   "source": [
    "# 读取网址链接的标题\n",
    "import re\n",
    "import urllib.request\n",
    "def get_title(url):\n",
    "    '''读取网址链接的标题'''\n",
    "    try:\n",
    "        page = urllib.request.urlopen(url=url)\n",
    "    except Exception as e:\n",
    "        print(e)\n",
    "    else:\n",
    "        html = page.read().decode('utf-8')\n",
    "        title = re.findall('<title>(.+)</title>', html)\n",
    "        return title\n",
    "\n",
    "webs = [r'https://blog.csdn.net/weixin_44060158/article/details/113864918',\n",
    "        r'https://blog.csdn.net/m0_56401378/article/details/116041895', 'http://lmq624.github.io']\n",
    "\n",
    "for i in webs:\n",
    "    res = get_title(i)\n",
    "    if res:\n",
    "        print(res)\n",
    "    else:\n",
    "        print(i, '获取失败，请手动保存网页标题')"
   ]
  },
  {
   "cell_type": "code",
   "execution_count": null,
   "metadata": {},
   "outputs": [],
   "source": [
    "# 标签-字符串\n",
    "# 文件命名有长度限制，故考虑使用编码标签。将标签加在文件名的低级后缀里。\n",
    "# 除了标签正向检索功能外，还得要有求补集，或者说过滤的功能，参考余项文件夹。\n",
    "# 执行项标记：关键与否，完成与否，预期计划，执行期始、暂止标记、执行期末、执行跨时……\n",
    "# 对于在操作对象的总集，可获取其内元素的总数，以及各个元素的基础唯一标识集合，例如文件名、ID等\n",
    "# 在操作对象的总集内，每一个元素都有通过不同手段（函数）得知的不同特征，而每一个特征可对应多个元素。\n",
    "\n",
    "# 标签整合算法。对于目标全集，各自列出其特征（表观一类），\n",
    "    # 求统计特征（频数、频率（百分比），可用markdown等做饼图等），\n",
    "    # 得各级标签，筛选并使用文件夹名（涉及文件夹·文件树/图，便利存储及后续管理），标签集化后，“凸显某棵树”，“每个文件夹都可以被视为一颗子多叉树”。\n",
    "# 考虑加上与文件夹相互转化，或者可控过度化。\n",
    "# 标签层级由标签间的用户预设项和标签间的包含关系决定。特征集，标签集，标签级，树集\n",
    "\n",
    "# 后续考虑使用人工智能对元素给出特征"
   ]
  },
  {
   "cell_type": "code",
   "execution_count": null,
   "metadata": {},
   "outputs": [],
   "source": [
    "# 文件更名，增删文件标签\n",
    "# 也可以考虑使用C++实现\n",
    "workpath = os.getcwd()  # 获取当前工作目录\n",
    "print(workpath)\n",
    "\n",
    "src = os.path.join(os.getcwd(), 'rename-test.txt')\n",
    "dst = os.getcwd() + 'rename-test' + '.another' + '.txt'\n",
    "\n",
    "key = input('输入 1 增加标签，输入 2 删除标签')\n",
    "if key == '1':\n",
    "    try:\n",
    "        os.rename(src, dst)\n",
    "    except Exception as e:\n",
    "        print(e)\n",
    "        print('rename file fail\\r\\n')\n",
    "    else:\n",
    "        print('rename file success\\r\\n')\n",
    "if key == '2':\n",
    "    try:\n",
    "        os.rename(dst, src)\n",
    "    except Exception as e:\n",
    "        print(e)\n",
    "        print('rename file fail\\r\\n')\n",
    "    else:\n",
    "        print('rename file success\\r\\n')\n"
   ]
  },
  {
   "cell_type": "code",
   "execution_count": null,
   "metadata": {},
   "outputs": [],
   "source": [
    "# 搭建简易本地搜索引擎\n",
    "# 查。寻位（增）、寻值（删），皆可视为寻指定标签，或进行附加处理。"
   ]
  },
  {
   "cell_type": "code",
   "execution_count": null,
   "metadata": {},
   "outputs": [],
   "source": [
    "# 链接集中管理\n",
    "# 建议再制作悬浮窗，用于拓展收藏功能\n",
    "# 可用于学习等领域\n",
    "\n",
    "# 使用默认浏览器打开指定链接\n",
    "import webbrowser\n",
    "\n",
    "bili = r\"https://www.bilibili.com/\"\n",
    "webbrowser.open(bili)\n"
   ]
  },
  {
   "cell_type": "code",
   "execution_count": null,
   "metadata": {},
   "outputs": [],
   "source": [
    "# 九九乘法表\n",
    "for i in range(1, 10):\n",
    "    for j in range(1, i+1):\n",
    "        print('%d * %d = %d\\t' % (i, j, i*j), end='')\n",
    "    print()\n"
   ]
  },
  {
   "cell_type": "code",
   "execution_count": null,
   "metadata": {},
   "outputs": [],
   "source": [
    "# 提取特别格式内容的html文件内被\"\"标识的链接或标题\n",
    "def read_LinkinTxt(txtpath):\n",
    "    fr = open(txtpath, 'r', encoding='utf-8')\n",
    "    str = fr.read()\n",
    "    fr.close()\n",
    "    flag = 0\n",
    "    link = ''\n",
    "    pre_ch = ' '\n",
    "    for ch in str:\n",
    "        if ch == 'h' and pre_ch == '\"': flag = 1\n",
    "        elif ch == '\"' and flag == 1: \n",
    "            flag = 0\n",
    "            print(link)\n",
    "            link = ''   # 写入link后将link清空，准备储存下一个链接\n",
    "        if flag == 1 : link += ch\n",
    "        pre_ch = ch\n",
    "\n",
    "def read_TitleinTxt(txtpath):\n",
    "    fr = open(txtpath, 'r', encoding='utf-8')\n",
    "    str = fr.read()\n",
    "    fr.close()\n",
    "    flag = 0\n",
    "    title = ''\n",
    "    pre_ch = ' '\n",
    "    for ch in str:\n",
    "        if pre_ch == '\"' and ch == '>' : flag = 1\n",
    "        elif ch == '<' and flag == 1:\n",
    "            flag = 0\n",
    "            print(title)\n",
    "            title = ''\n",
    "        if flag == 1 and not ch == '>': title += ch\n",
    "        pre_ch = ch\n",
    "\n",
    "def read_paragraph(txtpath):\n",
    "    '''处理文段'''\n",
    "    if text == '#':pass\n",
    "\n",
    "# 函数功能单独测试语段\n",
    "testing = 1\n",
    "if testing :\n",
    "    txt = r'E:\\RER\\Projects\\TextObj\\temp.txt'\n",
    "    key = input()\n",
    "    if key == 'l' :read_LinkinTxt(txt)\n",
    "    elif key == 't' :read_TitleinTxt(txt)"
   ]
  },
  {
   "cell_type": "markdown",
   "metadata": {},
   "source": [
    "# main"
   ]
  },
  {
   "cell_type": "code",
   "execution_count": null,
   "metadata": {},
   "outputs": [],
   "source": [
    "# __main__\n"
   ]
  }
 ],
 "metadata": {
  "kernelspec": {
   "display_name": "Python 3.10.6 64-bit",
   "language": "python",
   "name": "python3"
  },
  "language_info": {
   "codemirror_mode": {
    "name": "ipython",
    "version": 3
   },
   "file_extension": ".py",
   "mimetype": "text/x-python",
   "name": "python",
   "nbconvert_exporter": "python",
   "pygments_lexer": "ipython3",
   "version": "3.10.6"
  },
  "orig_nbformat": 4,
  "vscode": {
   "interpreter": {
    "hash": "3196968d684371006099b3d55edeef8ed90365227a30deaef86e5d4aa8519be0"
   }
  }
 },
 "nbformat": 4,
 "nbformat_minor": 2
}
