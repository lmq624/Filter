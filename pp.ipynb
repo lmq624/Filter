{
 "cells": [
  {
   "cell_type": "code",
   "execution_count": 5,
   "metadata": {},
   "outputs": [
    {
     "name": "stdout",
     "output_type": "stream",
     "text": [
      "Folderpath: E:/RER/Projects\n"
     ]
    },
    {
     "data": {
      "text/plain": [
       "1"
      ]
     },
     "execution_count": 5,
     "metadata": {},
     "output_type": "execute_result"
    }
   ],
   "source": [
    "# 获取对话框\n",
    "import tkinter as tk\n",
    "from tkinter import filedialog\n",
    "import os\n",
    "\n",
    "'''打开选择文件夹对话框'''\n",
    "root = tk.Tk()\n",
    "root.withdraw()\n",
    "\n",
    "Folderpath = filedialog.askdirectory()  # 获得选择好的文件夹\n",
    "# Filepath = filedialog.askopenfilename()  # 获得选择好的文件\n",
    "\n",
    "print('Folderpath:', Folderpath)\n",
    "\n",
    "os.listdir(Folderpath)\n",
    "os.system(\"explorer.exe %s\" % Folderpath)\n"
   ]
  },
  {
   "cell_type": "code",
   "execution_count": 4,
   "metadata": {},
   "outputs": [
    {
     "name": "stdout",
     "output_type": "stream",
     "text": [
      "e:\\RER\\Projects\\TextObj\\Filter\n",
      "[WinError 2] 系统找不到指定的文件。: 'e:\\\\RER\\\\Projects\\\\TextObj\\\\Filter\\\\test.txt' -> 'e:\\\\RER\\\\Projects\\\\TextObj\\\\Filter\\\\newrun.txt'\n",
      "rename file fail\n",
      "\n"
     ]
    }
   ],
   "source": [
    "# 处理文件名\n",
    "\n",
    "# 文件更名\n",
    "workpath = os.getcwd()\n",
    "print(workpath)\n",
    "\n",
    "src = os.path.join(os.getcwd(), 'test.txt')\n",
    "dst = os.path.join(os.getcwd(), 'newrun.txt')\n",
    "\n",
    "try:\n",
    "    os.rename(src, dst)\n",
    "except Exception as e:\n",
    "    print(e)\n",
    "    print('rename file fail\\r\\n')\n",
    "else:\n",
    "    print('rename file success\\r\\n')\n"
   ]
  },
  {
   "cell_type": "code",
   "execution_count": 1,
   "metadata": {},
   "outputs": [
    {
     "name": "stdout",
     "output_type": "stream",
     "text": [
      "创建了一个树变量\n"
     ]
    }
   ],
   "source": [
    "# 新建标签树类\n",
    "# 参考树，体系化储存\n",
    "\n",
    "# 建立链表节点类\n",
    "class Node(object):\n",
    "\t'''定义单链表节点类'''\n",
    "\tdef __init__(self, data, next=None):\n",
    "\t\t'''data为数据项，next为下一节点的链接，初始化节点默认链接为None'''\n",
    "\t\tself.data = data\n",
    "\t\tself.next = next\n",
    "    # def append(self, Node):\n",
    "    #     self.next = Node\n",
    "\n",
    "class Tabtree:\n",
    "    children = 0\n",
    "    def __init__(self):\n",
    "        print('创建了一个树变量')\n",
    "    def append(self, node):\n",
    "        self.children += 1\n",
    "\n",
    "\n",
    "h = Tabtree()"
   ]
  },
  {
   "cell_type": "code",
   "execution_count": null,
   "metadata": {},
   "outputs": [],
   "source": [
    "# 标签-字符串\n",
    "# 文件命名有长度限制，故考虑使用编码标签。将标签加在文件名的低级后缀里。\n"
   ]
  },
  {
   "cell_type": "code",
   "execution_count": 3,
   "metadata": {},
   "outputs": [
    {
     "data": {
      "text/plain": [
       "True"
      ]
     },
     "execution_count": 3,
     "metadata": {},
     "output_type": "execute_result"
    }
   ],
   "source": [
    "# 代码集中管理\n",
    "# 建议再制作悬浮窗，用于拓展收藏功能\n",
    "\n",
    "# 使用默认浏览器打开指定链接\n",
    "import webbrowser\n",
    "\n",
    "bili = r\"https://www.bilibili.com/\"\n",
    "webbrowser.open(bili)"
   ]
  },
  {
   "cell_type": "code",
   "execution_count": 4,
   "metadata": {},
   "outputs": [],
   "source": [
    "# Python图形化界面基础\n",
    "from tkinter import *\n",
    "root = Tk()\n",
    "root.title('我的第一个Python窗体')\n",
    "root.geometry('240x240')  # 这里的乘号不是 * ，而是小写英文字母 x\n",
    "root.mainloop()\n"
   ]
  }
 ],
 "metadata": {
  "kernelspec": {
   "display_name": "Python 3.10.6 64-bit",
   "language": "python",
   "name": "python3"
  },
  "language_info": {
   "codemirror_mode": {
    "name": "ipython",
    "version": 3
   },
   "file_extension": ".py",
   "mimetype": "text/x-python",
   "name": "python",
   "nbconvert_exporter": "python",
   "pygments_lexer": "ipython3",
   "version": "3.10.6"
  },
  "orig_nbformat": 4,
  "vscode": {
   "interpreter": {
    "hash": "3196968d684371006099b3d55edeef8ed90365227a30deaef86e5d4aa8519be0"
   }
  }
 },
 "nbformat": 4,
 "nbformat_minor": 2
}
